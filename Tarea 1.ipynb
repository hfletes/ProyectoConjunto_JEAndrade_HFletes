{
 "cells": [
  {
   "cell_type": "code",
   "execution_count": 1,
   "id": "67db6ef2",
   "metadata": {},
   "outputs": [],
   "source": [
    "#Tarea 1\n",
    "#TAREA 1\n"
   ]
  },
  {
   "cell_type": "markdown",
   "id": "8dc0e782",
   "metadata": {},
   "source": [
    "# MODIFICACIONES HECTOR "
   ]
  },
  {
   "cell_type": "code",
   "execution_count": null,
   "id": "c6cd361c",
   "metadata": {},
   "outputs": [],
   "source": [
    "#CAMBIOS HECTOR \n",
    "\n",
    "#hola"
   ]
  }
 ],
 "metadata": {
  "kernelspec": {
   "display_name": "Python 3 (ipykernel)",
   "language": "python",
   "name": "python3"
  },
  "language_info": {
   "codemirror_mode": {
    "name": "ipython",
    "version": 3
   },
   "file_extension": ".py",
   "mimetype": "text/x-python",
   "name": "python",
   "nbconvert_exporter": "python",
   "pygments_lexer": "ipython3",
   "version": "3.11.4"
  }
 },
 "nbformat": 4,
 "nbformat_minor": 5
}
